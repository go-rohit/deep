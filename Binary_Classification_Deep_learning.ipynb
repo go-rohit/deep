{
 "cells": [
  {
   "cell_type": "code",
   "execution_count": 105,
   "id": "0322a7a0-3106-4c38-b23a-3fce4f721d30",
   "metadata": {},
   "outputs": [],
   "source": [
    "# import require modules\n",
    "import pandas as pd\n",
    "from sklearn import preprocessing\n",
    "from sklearn.model_selection import train_test_split\n",
    "import numpy as np\n",
    "# define global variables\n",
    "absolute_path_csv ='C:\\\\Users\\\\rohit\\\\Downloads\\\\nba_logreg.csv'\n",
    "#'D:\\\\Deep Learning Project\\\\breast_cancer.csv'\n",
    "label_encoding_list = [] #should be list\n",
    "field_not_required = [] # should be list\n",
    "test_split_ratio = 0.30\n",
    "output_column_name = 'TARGET_5Yrs'\n",
    "hidden_layer = 1\n",
    "hidden_units = [100]\n",
    "num_iteration = 3000"
   ]
  },
  {
   "cell_type": "code",
   "execution_count": 51,
   "id": "ac159975-94f1-4c0b-82c7-ff0759ebd8e0",
   "metadata": {},
   "outputs": [],
   "source": [
    "# data preprocessing function\n",
    "def data_preprocessing(absolute_path_csv, label_encoding_list ,field_not_required ):\n",
    "    # asserting function argument data type\n",
    "    assert isinstance(label_encoding_list, list), \"label_encoding_list argument must be a list\"\n",
    "    assert isinstance(field_not_required, list), \"field_not_required argument must be a list\"\n",
    "    #import data\n",
    "    processed_data = pd.read_csv(absolute_path_csv)\n",
    "    # Label encoding: we will use sklearn preprocessing module for label encoding. In label encoding\n",
    "    # each class of categorical variable is assigned a unique integer to be used in ML\n",
    "    #you can use one-Hot-encoding, pandas.map() to achieve similar result. Time complexity needs to be taken care while\n",
    "    #choosing the approach. Here we have used label encoding without considering any factor\n",
    "    #There are many other data preprocessing steps we can take like treating missing values, scaling of data etc.\n",
    "    if len(label_encoding_list) != 0:\n",
    "        label_encoder = preprocessing.LabelEncoder() # label encoder object is created\n",
    "        for i in label_encoding_list:\n",
    "            processed_data[i] = label_encoder.fit_transform(processed_data[i])\n",
    "\n",
    "    # Removein un-necesary coloumn\n",
    "    if len(field_not_required) !=0:\n",
    "        \n",
    "        for i in field_not_required:\n",
    "            processed_data = processed_data.drop(i, axis=1)\n",
    "    return processed_data"
   ]
  },
  {
   "cell_type": "code",
   "execution_count": 52,
   "id": "25fb939c-6eaf-46f6-b5c5-719b625bc15e",
   "metadata": {},
   "outputs": [],
   "source": [
    "# Data split into training and test\n",
    "def training_test_set(output_column_name, test_split_ratio):\n",
    "    # asserting parameters expected value\n",
    "    assert 0 < test_split_ratio < 1, \"Test_split_ratio should be between 0 and 1\"\n",
    "    base_processed_data = data_preprocessing(absolute_path_csv, label_encoding_list ,field_not_required)\n",
    "    #split data into X and Y\n",
    "    train, test  = train_test_split(base_processed_data, test_size = test_split_ratio )\n",
    "    train_x = train.drop(output_column_name,axis=1)\n",
    "    train_y = train[output_column_name]\n",
    "\n",
    "    test_x = test.drop(output_column_name,axis=1)\n",
    "    test_y = test[output_column_name]\n",
    "    \n",
    "    return np.array(train_x).T,np.array(train_y).reshape(1,-1),np.array(test_x).T,np.array(test_y).reshape(1,-1)\n",
    "\n",
    "    "
   ]
  },
  {
   "cell_type": "code",
   "execution_count": 53,
   "id": "7204c4f5-af6b-4020-8723-7ed1ce228246",
   "metadata": {},
   "outputs": [],
   "source": [
    " train_x,train_y,test_x,test_y = training_test_set(output_column_name, test_split_ratio)"
   ]
  },
  {
   "cell_type": "code",
   "execution_count": 54,
   "id": "3ae2fda4-8dc1-44bf-a093-64d5ebd2c0ea",
   "metadata": {},
   "outputs": [
    {
     "data": {
      "text/plain": [
       "(19, 938)"
      ]
     },
     "execution_count": 54,
     "metadata": {},
     "output_type": "execute_result"
    }
   ],
   "source": [
    "train_x.shape"
   ]
  },
  {
   "cell_type": "code",
   "execution_count": 91,
   "id": "a0fb7f1c-b7b5-49fe-8545-45910586df32",
   "metadata": {},
   "outputs": [],
   "source": [
    "#Neural architecture including weight and bias initialization\n",
    "def neural_architecture(hidden_layer, hidden_units):\n",
    "    #train_x,train_y,test_x,test_y = training_test_set(output_column_name, test_split_ratio)\n",
    "    #asserting variables datatype and structure\n",
    "    assert isinstance(hidden_layer,int), \"hidden_layer value should be of int data type\"\n",
    "    assert isinstance(hidden_units,list), \"hidden_units should be of list data structure\"\n",
    "    assert len(hidden_units) == hidden_layer, \"length of hidden_unit list should be equal to hidden_layer value\"\n",
    "    n_x = train_x.shape[0] # input layer size\n",
    "    n_y = train_y.shape[0] # output layer size\n",
    "    # initialize weights and bias for the hidden and output layer\n",
    "    weights_hidden_layer = {}\n",
    "    if hidden_layer != 0:\n",
    "        for i in range(hidden_layer):\n",
    "            if i == 0:\n",
    "                weights_hidden_layer['W'+str(i+1)] = np.random.randn(hidden_units[i],n_x)*0.01\n",
    "                weights_hidden_layer['b'+str(i+1)] = np.zeros((hidden_units[i],1))\n",
    "            else:\n",
    "                weights_hidden_layer['W'+str(i+1)] = np.random.randn(hidden_units[i],hidden_units[i-1])*0.01\n",
    "                weights_hidden_layer['b'+ str(i+1)] = np.zeros((hidden_units[i],1))\n",
    "        weights_hidden_layer['W'+str(len(hidden_units)+1)] = np.random.randn(n_y,hidden_units[len(hidden_units)-1])*0.01\n",
    "        weights_hidden_layer['b' + str(len(hidden_units)+1)] =np.zeros((1,1))\n",
    "    else:\n",
    "        weights_hidden_layer['W'+str(1)] = np.random.randn(n_y,n_x)*0.01\n",
    "        weights_hidden_layer['b'+str(1)] = np.zeros((1,1))\n",
    "\n",
    "    return weights_hidden_layer\n",
    "    "
   ]
  },
  {
   "cell_type": "code",
   "execution_count": 19,
   "id": "799b3f80-86d5-4f04-bbd7-0ea89bd77de1",
   "metadata": {},
   "outputs": [],
   "source": [
    "weights_hidden_layer = neural_architecture(hidden_layer, hidden_units)"
   ]
  },
  {
   "cell_type": "code",
   "execution_count": 22,
   "id": "6a6bf1fd-03f2-4017-b06e-dcb5daf7e833",
   "metadata": {},
   "outputs": [
    {
     "data": {
      "text/plain": [
       "(100, 30)"
      ]
     },
     "execution_count": 22,
     "metadata": {},
     "output_type": "execute_result"
    }
   ],
   "source": [
    "weights_hidden_layer['W1'].shape"
   ]
  },
  {
   "cell_type": "code",
   "execution_count": 113,
   "id": "05402f1d-8731-4fa1-b108-d47c7e2f28bd",
   "metadata": {},
   "outputs": [],
   "source": [
    "# forward propogation\n",
    "def forward_propogation(train_x , weights = neural_architecture(hidden_layer, hidden_units)):\n",
    "    #weights_hidden_layer = neural_architecture(hidden_layer, hidden_units)\n",
    "    weights_hidden_layer = weights\n",
    "    #train_x,train_y,test_x,test_y = training_test_set(output_column_name, test_split_ratio)\n",
    "    forward_computation = {}\n",
    "    forward_computation['A0'] = train_x\n",
    "    if hidden_layer != 0:\n",
    "        for i in range(hidden_layer):\n",
    "            forward_computation['Z'+str(i+1)] = np.dot(weights_hidden_layer['W'+str(i+1)],forward_computation['A'+str(i)])+weights_hidden_layer['b'+str(i+1)]\n",
    "            forward_computation['A'+str(i+1)] = np.tanh(forward_computation['Z'+str(i+1)])\n",
    "        forward_computation['Z'+str(len(hidden_units)+1)]= np.dot(weights_hidden_layer['W'+str(len(hidden_units)+1)],forward_computation['A'+str(len(hidden_units))])+weights_hidden_layer['b'+str(len(hidden_units)+1)]\n",
    "        forward_computation['A'+str(len(hidden_units)+1)] = 1/(1+ np.exp(-1*forward_computation['Z'+str(len(hidden_units)+1)]))                                                         \n",
    "    else:\n",
    "        forward_computation['Z1'] = np.dot(weights_hidden_layer['W1'],forward_computation['A0'])+weights_hidden_layer['b1']\n",
    "        forward_computation['A1'] = 1/(1+np.exp(-1*forward_computation['Z1']))\n",
    "    \n",
    "    return forward_computation"
   ]
  },
  {
   "cell_type": "code",
   "execution_count": 24,
   "id": "454e893e-9496-49c6-b402-10862d05324c",
   "metadata": {},
   "outputs": [],
   "source": [
    "#Cost computation\n",
    "def cost_computation(f_computation = forward_propogation(train_x)):\n",
    "    forward_computation = f_computation\n",
    "    #train_x,train_y,test_x,test_y = training_test_set(output_column_name, test_split_ratio)\n",
    "    m = train_x.shape[1]\n",
    "    log_probs = np.multiply(np.log(forward_computation['A'+str(hidden_layer +1)]),train_y)\n",
    "    cost = (-1/m)*np.sum(log_probs)\n",
    "    cost = float(np.squeeze(cost))#e.g. turns [[3]] = 3\n",
    "    return cost"
   ]
  },
  {
   "cell_type": "code",
   "execution_count": 25,
   "id": "a01002be-6aca-47a5-8449-51678d6b62fb",
   "metadata": {},
   "outputs": [],
   "source": [
    "#sigmoid_derivative\n",
    "def sigmoid_derivative(A):\n",
    "    dAdZ = A*(1-A)\n",
    "    return dAdZ\n",
    "#tanh_derivative\n",
    "def tanh_derivative(A):\n",
    "    dAdZ = 1-(A*A)\n",
    "    return dAdZ"
   ]
  },
  {
   "cell_type": "code",
   "execution_count": 114,
   "id": "2a220fc7-fb44-4c06-803e-bb61a90e4b4e",
   "metadata": {},
   "outputs": [],
   "source": [
    "#Backward prop algorithm\n",
    "def backward_propogation(f_computation = forward_propogation(train_x)):\n",
    "    forward_computation = f_computation\n",
    "    train_x,train_y,test_x,test_y = training_test_set(output_column_name, test_split_ratio)\n",
    "    m = train_x.shape[1]\n",
    "    # initialize backward propogation\n",
    "    #use of epsilon is to make sure if value get too close to zero it doesnot cause any error\n",
    "    epsilon = 1e-15\n",
    "    backward_computation = {}\n",
    "    backward_computation['dA'+str(len(hidden_units)+1)] = -1*(np.divide(train_y,forward_computation['A'+str(len(hidden_units)+1)]+epsilon)+ np.divide((1-train_y),(1-forward_computation['A'+str(len(hidden_units)+1)]+epsilon)))\n",
    "    backward_computation['dZ'+str(len(hidden_units)+1)] = backward_computation['dA'+str(len(hidden_units)+1)] * sigmoid_derivative(forward_computation['A'+str(len(hidden_units)+1)])\n",
    "    backward_computation['dW'+str(len(hidden_units)+1)] = np.dot(backward_computation['dZ'+str(len(hidden_units)+1)],forward_computation['A'+str(len(hidden_units))].T)/m\n",
    "    backward_computation['db'+str(len(hidden_units)+1)] = np.sum(backward_computation['dZ'+str(len(hidden_units)+1)],axis =1,keepdims = True)/m\n",
    "    for i in reversed(range(len(hidden_units))):\n",
    "        backward_computation['dA'+str(i+1)] = np.dot(backward_computation['dW'+str(i+2)].T,backward_computation['dZ'+str(i+2)])\n",
    "        backward_computation['dZ'+str(i+1)] = backward_computation['dA'+str(i+1)]*tanh_derivative(forward_computation['A'+str(i+1)])\n",
    "        backward_computation['dW'+str(i+1)] = np.dot(backward_computation['dZ'+str(i+1)],forward_computation['A'+str(i)].T)/m\n",
    "        backward_computation['db'+str(i+1)] = np.sum(backward_computation['dZ'+str(i+1)],axis =1,keepdims = True)/m\n",
    "\n",
    "    return backward_computation"
   ]
  },
  {
   "cell_type": "code",
   "execution_count": 31,
   "id": "da56fb42-fd28-40d2-aee3-3f2f0e748db2",
   "metadata": {},
   "outputs": [],
   "source": [
    "def complete_network(num_iteration = 1000, learning_rate = 0.01):\n",
    "    train_x,train_y,test_x,test_y = training_test_set(output_column_name, test_split_ratio)\n",
    "    weights = neural_architecture(hidden_layer, hidden_units)\n",
    "    cost_computed = []\n",
    "    for i in range(num_iteration):\n",
    "        forward_computation = forward_propogation(train_x,weights)\n",
    "        cost = cost_computation(forward_computation)\n",
    "        cost_computed.append(cost)\n",
    "        if i%300 ==0:\n",
    "            print(cost)\n",
    "        backward_computation = backward_propogation(forward_computation)\n",
    "        for i in range(1, hidden_layer+2):\n",
    "            weights['W'+str(i)] = weights['W'+str(i)] - learning_rate * backward_computation['dW'+str(i)]\n",
    "            weights['b'+str(i)] = weights['b'+str(i)] - learning_rate * backward_computation['db'+str(i)]\n",
    "       \n",
    "    return cost_computed, backward_computation,weights"
   ]
  },
  {
   "cell_type": "code",
   "execution_count": 106,
   "id": "df36dbb1-d1fb-4096-beac-edc367af43d6",
   "metadata": {},
   "outputs": [
    {
     "name": "stdout",
     "output_type": "stream",
     "text": [
      "0.3976096123518956\n",
      "9.468853088487478e-19\n",
      "-0.0\n",
      "-0.0\n",
      "-0.0\n",
      "-0.0\n",
      "-0.0\n",
      "-0.0\n",
      "-0.0\n",
      "-0.0\n"
     ]
    }
   ],
   "source": [
    "cost, backward_computation,weight = complete_network(num_iteration, learning_rate = 0.01)"
   ]
  },
  {
   "cell_type": "code",
   "execution_count": 82,
   "id": "555d1e0a-37be-4a49-8890-146d3fb9395d",
   "metadata": {},
   "outputs": [
    {
     "data": {
      "text/plain": [
       "dict_keys(['W1', 'b1', 'W2', 'b2'])"
      ]
     },
     "execution_count": 82,
     "metadata": {},
     "output_type": "execute_result"
    }
   ],
   "source": [
    "weight.keys()"
   ]
  },
  {
   "cell_type": "code",
   "execution_count": 107,
   "id": "77a8a48c-aeb6-4c84-a30a-095cda3a2985",
   "metadata": {},
   "outputs": [
    {
     "data": {
      "image/png": "[encoded data removed]",
      "text/plain": [
       "<Figure size 640x480 with 1 Axes>"
      ]
     },
     "metadata": {},
     "output_type": "display_data"
    }
   ],
   "source": [
    "import matplotlib.pyplot as plt\n",
    "plt.plot(cost)\n",
    "plt.show()"
   ]
  },
  {
   "cell_type": "code",
   "execution_count": 108,
   "id": "456222d0-e269-4142-8070-5cd3447d7657",
   "metadata": {},
   "outputs": [],
   "source": [
    "#prediction\n",
    "def predict(test_x,test_y,weight):\n",
    "    predict = forward_propogation(test_x,weight)['A'+str(hidden_layer+1)]\n",
    "    predict_y = (predict > 0.5)\n",
    "    accuracy = ((np.dot(test_y,predict_y.T) + np.dot(1-test_y,1-predict_y.T))/test_y.size)*100\n",
    "    return predict_y, accuracy\n",
    "    "
   ]
  },
  {
   "cell_type": "code",
   "execution_count": 110,
   "id": "f8399e0a-a3ac-4661-b6ce-7df5e2f1d15d",
   "metadata": {},
   "outputs": [
    {
     "name": "stdout",
     "output_type": "stream",
     "text": [
      "[[ True  True  True  True  True  True  True  True  True  True  True  True\n",
      "   True  True  True  True  True  True  True  True  True  True  True  True\n",
      "   True  True  True  True  True  True  True  True  True  True  True  True\n",
      "   True  True  True  True  True  True  True  True  True  True  True  True\n",
      "   True  True  True  True  True  True  True  True  True  True  True  True\n",
      "   True  True  True  True  True  True  True  True  True  True  True  True\n",
      "   True  True  True  True  True  True  True  True  True  True  True  True\n",
      "   True  True  True  True  True  True  True  True  True  True  True  True\n",
      "   True  True  True  True  True  True  True  True  True  True  True  True\n",
      "   True  True  True  True  True  True  True  True  True  True  True  True\n",
      "   True  True  True  True  True  True  True  True  True  True  True  True\n",
      "   True  True  True  True  True  True  True  True  True  True  True  True\n",
      "   True  True  True  True  True  True  True  True  True  True  True  True\n",
      "   True  True  True  True  True  True  True  True  True  True  True  True\n",
      "   True  True  True  True  True  True  True  True  True  True  True  True\n",
      "   True  True  True  True  True  True  True  True  True  True  True  True\n",
      "   True  True  True  True  True  True  True  True  True  True  True  True\n",
      "   True  True  True  True  True  True  True  True  True  True  True  True\n",
      "   True  True  True  True  True  True  True  True  True  True  True  True\n",
      "   True  True  True  True  True  True  True  True  True  True  True  True\n",
      "   True  True  True  True  True  True  True  True  True  True  True  True\n",
      "   True  True  True  True  True  True  True  True  True  True  True  True\n",
      "   True  True  True  True  True  True  True  True  True  True  True  True\n",
      "   True  True  True  True  True  True  True  True  True  True  True  True\n",
      "   True  True  True  True  True  True  True  True  True  True  True  True\n",
      "   True  True  True  True  True  True  True  True  True  True  True  True\n",
      "   True  True  True  True  True  True  True  True  True  True  True  True\n",
      "   True  True  True  True  True  True  True  True  True  True  True  True\n",
      "   True  True  True  True  True  True  True  True  True  True  True  True\n",
      "   True  True  True  True  True  True  True  True  True  True  True  True\n",
      "   True  True  True  True  True  True  True  True  True  True  True  True\n",
      "   True  True  True  True  True  True  True  True  True  True  True  True\n",
      "   True  True  True  True  True  True  True  True  True  True  True  True\n",
      "   True  True  True  True  True  True]]\n",
      "[[58.70646766]]\n"
     ]
    }
   ],
   "source": [
    "train_x,train_y,test_x,test_y = training_test_set(output_column_name, test_split_ratio)\n",
    "predict_y, accuracy = predict(test_x,test_y,weight)\n",
    "print(predict_y)\n",
    "print(accuracy)\n"
   ]
  },
  {
   "cell_type": "code",
   "execution_count": null,
   "id": "8f89a1d2-d2a9-4cc7-9f2d-d58a3661170f",
   "metadata": {},
   "outputs": [],
   "source": [
    "forward_computation = forward_propogation()\n",
    "dAdZ = tanh_derivative(forward_computation['A4'])\n",
    "print(forward_computation['A4'].shape)\n",
    "print(dAdZ.shape)\n"
   ]
  },
  {
   "cell_type": "code",
   "execution_count": null,
   "id": "004e893a-9dc9-4c46-8299-99ca898e296c",
   "metadata": {},
   "outputs": [],
   "source": [
    "forward_computation.keys()"
   ]
  },
  {
   "cell_type": "code",
   "execution_count": null,
   "id": "a7e9037c-4ed5-40a6-97e3-0fce94b387e0",
   "metadata": {},
   "outputs": [],
   "source": [
    "backward_computation = backward_propogation()"
   ]
  },
  {
   "cell_type": "code",
   "execution_count": null,
   "id": "0ec78714-2127-4445-b3b4-636fb716d77e",
   "metadata": {},
   "outputs": [],
   "source": [
    "backward_computation.keys()"
   ]
  },
  {
   "cell_type": "code",
   "execution_count": null,
   "id": "aa2a191e-db2b-4906-a4cd-5c4b7d157162",
   "metadata": {},
   "outputs": [],
   "source": [
    "backward_computation['dW1'].shape"
   ]
  },
  {
   "cell_type": "code",
   "execution_count": null,
   "id": "4364af89-4dad-4560-897b-b06c0359093c",
   "metadata": {},
   "outputs": [],
   "source": [
    "601%300"
   ]
  }
 ],
 "metadata": {
  "kernelspec": {
   "display_name": "Python 3 (ipykernel)",
   "language": "python",
   "name": "python3"
  },
  "language_info": {
   "codemirror_mode": {
    "name": "ipython",
    "version": 3
   },
   "file_extension": ".py",
   "mimetype": "text/x-python",
   "name": "python",
   "nbconvert_exporter": "python",
   "pygments_lexer": "ipython3",
   "version": "3.11.6"
  }
 },
 "nbformat": 4,
 "nbformat_minor": 5
}
